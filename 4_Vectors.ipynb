{
 "cells": [
  {
   "cell_type": "markdown",
   "metadata": {},
   "source": [
    "## Vectors"
   ]
  },
  {
   "cell_type": "code",
   "execution_count": 2,
   "metadata": {
    "collapsed": false
   },
   "outputs": [
    {
     "name": "stdout",
     "output_type": "stream",
     "text": [
      "a =\n",
      "     1     2     3\n",
      "b =\n",
      "     4     5     6\n",
      "c =\n",
      "     7     8     9\n"
     ]
    }
   ],
   "source": [
    "% assign some vectors\n",
    "format compact\n",
    "a = [1 2 3]\n",
    "b = [4 5 6]\n",
    "% commas are valid as well\n",
    "c = [7 8 9]"
   ]
  },
  {
   "cell_type": "code",
   "execution_count": 3,
   "metadata": {
    "collapsed": false
   },
   "outputs": [
    {
     "name": "stdout",
     "output_type": "stream",
     "text": [
      "d =\n",
      "     4\n",
      "     3\n",
      "     2\n"
     ]
    }
   ],
   "source": [
    "% semicolons change the dimension\n",
    "d = [4;3;2]"
   ]
  },
  {
   "cell_type": "code",
   "execution_count": 4,
   "metadata": {
    "collapsed": false
   },
   "outputs": [
    {
     "name": "stdout",
     "output_type": "stream",
     "text": [
      "ans =\n",
      "     1\n",
      "     2\n",
      "     3\n"
     ]
    }
   ],
   "source": [
    "% alternatively, A^-1 (transpose) is achieved with '\n",
    "a'"
   ]
  },
  {
   "cell_type": "code",
   "execution_count": 5,
   "metadata": {
    "collapsed": false
   },
   "outputs": [
    {
     "name": "stdout",
     "output_type": "stream",
     "text": [
      "ans =\n",
      "     2\n",
      "ans =\n",
      "     4\n"
     ]
    }
   ],
   "source": [
    "% access to items in a vector are indexed from 1-N\n",
    "a(2)\n",
    "d(1)"
   ]
  },
  {
   "cell_type": "markdown",
   "metadata": {},
   "source": [
    "#### Calculations"
   ]
  },
  {
   "cell_type": "code",
   "execution_count": 6,
   "metadata": {
    "collapsed": true
   },
   "outputs": [],
   "source": [
    "a = [1 2 3 4 5];\n",
    "b = [6 7 8 9 10];"
   ]
  },
  {
   "cell_type": "code",
   "execution_count": 7,
   "metadata": {
    "collapsed": false
   },
   "outputs": [
    {
     "name": "stdout",
     "output_type": "stream",
     "text": [
      "ans =\n",
      "     7     9    11    13    15\n"
     ]
    }
   ],
   "source": [
    "a + b     % add"
   ]
  },
  {
   "cell_type": "code",
   "execution_count": 8,
   "metadata": {
    "collapsed": false
   },
   "outputs": [
    {
     "name": "stdout",
     "output_type": "stream",
     "text": [
      "ans =\n",
      "    -5    -5    -5    -5    -5\n"
     ]
    }
   ],
   "source": [
    "a - b     % subtract"
   ]
  },
  {
   "cell_type": "code",
   "execution_count": 9,
   "metadata": {
    "collapsed": false
   },
   "outputs": [
    {
     "name": "stdout",
     "output_type": "stream",
     "text": [
      "ans =\n",
      "    10    20    30    40    50\n"
     ]
    }
   ],
   "source": [
    "10 * a    % scalar multiply"
   ]
  },
  {
   "cell_type": "code",
   "execution_count": 10,
   "metadata": {
    "collapsed": false
   },
   "outputs": [
    {
     "name": "stdout",
     "output_type": "stream",
     "text": [
      "ans =\n",
      "   130\n",
      "ans =\n",
      "   130\n"
     ]
    }
   ],
   "source": [
    "% Dot Product uses the dot(A, B) function\n",
    "dot(a,b)\n",
    "\n",
    "% we can do the same with transpose\n",
    "a * b'"
   ]
  },
  {
   "cell_type": "code",
   "execution_count": 11,
   "metadata": {
    "collapsed": false
   },
   "outputs": [
    {
     "name": "stdout",
     "output_type": "stream",
     "text": [
      "ans =\n",
      "    -3     6    -3\n"
     ]
    }
   ],
   "source": [
    "% Cross Product uses the cross(A,B) function\n",
    "clear all\n",
    "a = [1 2 3];\n",
    "b = [4 5 6];\n",
    "cross(a,b)"
   ]
  },
  {
   "cell_type": "code",
   "execution_count": 12,
   "metadata": {
    "collapsed": false
   },
   "outputs": [
    {
     "name": "stdout",
     "output_type": "stream",
     "text": [
      "ans =\n",
      "    17\n"
     ]
    }
   ],
   "source": [
    "% for long vectors, it is useful to get the length (number of elements);\n",
    "clear all\n",
    "a = [1 2 3 4 5 6 7 8 9 10 11 12 13 14 15 16 17];\n",
    "length(a)"
   ]
  },
  {
   "cell_type": "code",
   "execution_count": 13,
   "metadata": {
    "collapsed": false
   },
   "outputs": [
    {
     "name": "stdout",
     "output_type": "stream",
     "text": [
      "ans =\n",
      "   153\n"
     ]
    }
   ],
   "source": [
    "% all the elements of a vector can be added with sum(A) function\n",
    "sum(a)"
   ]
  },
  {
   "cell_type": "code",
   "execution_count": 14,
   "metadata": {
    "collapsed": false
   },
   "outputs": [
    {
     "name": "stdout",
     "output_type": "stream",
     "text": [
      "ans =\n",
      "     9\n"
     ]
    }
   ],
   "source": [
    "% this is useful for averages\n",
    "sum(a)/length(a)"
   ]
  },
  {
   "cell_type": "code",
   "execution_count": 15,
   "metadata": {
    "collapsed": false
   },
   "outputs": [
    {
     "name": "stdout",
     "output_type": "stream",
     "text": [
      "ans =\n",
      "     1\n",
      "ans =\n",
      "    17\n"
     ]
    }
   ],
   "source": [
    "% min and max\n",
    "min(a)\n",
    "max(a)"
   ]
  },
  {
   "cell_type": "markdown",
   "metadata": {},
   "source": [
    "#### Extraction and Creation"
   ]
  },
  {
   "cell_type": "code",
   "execution_count": 16,
   "metadata": {
    "collapsed": false
   },
   "outputs": [
    {
     "name": "stdout",
     "output_type": "stream",
     "text": [
      "a =\n",
      "  Columns 1 through 13\n",
      "     1     2     3     4     5     6     7     8     9    10    11    12    13\n",
      "  Columns 14 through 17\n",
      "    14    15    16    17\n"
     ]
    }
   ],
   "source": [
    "% extraction of parts of a vector \n",
    "a"
   ]
  },
  {
   "cell_type": "code",
   "execution_count": 17,
   "metadata": {
    "collapsed": false
   },
   "outputs": [
    {
     "name": "stdout",
     "output_type": "stream",
     "text": [
      "a =\n",
      "     1     2     3     4     5     6     7     8     9    10\n"
     ]
    }
   ],
   "source": [
    "a = 1:10"
   ]
  },
  {
   "cell_type": "code",
   "execution_count": 18,
   "metadata": {
    "collapsed": false
   },
   "outputs": [
    {
     "name": "stdout",
     "output_type": "stream",
     "text": [
      "b =\n",
      "     1     2     3     4     5     6\n"
     ]
    }
   ],
   "source": [
    "b = 1:6"
   ]
  },
  {
   "cell_type": "code",
   "execution_count": 19,
   "metadata": {
    "collapsed": false
   },
   "outputs": [
    {
     "name": "stdout",
     "output_type": "stream",
     "text": [
      "q =\n",
      "     6     7     8     9    10\n"
     ]
    }
   ],
   "source": [
    "% we can also grab specific parts of a vector\n",
    "q = a(6:10)"
   ]
  },
  {
   "cell_type": "code",
   "execution_count": 20,
   "metadata": {
    "collapsed": false
   },
   "outputs": [
    {
     "name": "stdout",
     "output_type": "stream",
     "text": [
      "c =\n",
      "     1     3     5     7     9\n"
     ]
    }
   ],
   "source": [
    "% a:n:b - this means go from a to b in n-increments \n",
    "c = 1:2:10"
   ]
  },
  {
   "cell_type": "code",
   "execution_count": 21,
   "metadata": {
    "collapsed": false
   },
   "outputs": [
    {
     "name": "stdout",
     "output_type": "stream",
     "text": [
      "ans =\n",
      "   101\n"
     ]
    }
   ],
   "source": [
    "% this is useful for automatically making large vectors\n",
    "t = 0:0.1:10;  % output suppressed to save space!!!\n",
    "length(t)"
   ]
  },
  {
   "cell_type": "code",
   "execution_count": 22,
   "metadata": {
    "collapsed": false
   },
   "outputs": [],
   "source": [
    "% another way to make a vector is linspace(a,b)\n",
    "% make a vector exactly 100 elements evenly spaced from a to b\n",
    "linspace(1,100);"
   ]
  },
  {
   "cell_type": "code",
   "execution_count": 23,
   "metadata": {
    "collapsed": false
   },
   "outputs": [
    {
     "name": "stdout",
     "output_type": "stream",
     "text": [
      "a =\n",
      "    1.0000   13.2500   25.5000   37.7500   50.0000\n",
      "ans =\n",
      "     5\n",
      "ans =\n",
      "   25.5000\n",
      "ans =\n",
      "  127.5000\n"
     ]
    }
   ],
   "source": [
    "% we can also specify how many elements we want by adding a 3rd parameter\n",
    "a = linspace(1,50,5)\n",
    "length(a)\n",
    "mean(a)\n",
    "sum(a)"
   ]
  },
  {
   "cell_type": "code",
   "execution_count": 24,
   "metadata": {
    "collapsed": false
   },
   "outputs": [
    {
     "name": "stdout",
     "output_type": "stream",
     "text": [
      "c =\n",
      "     6     8    10\n",
      "d =\n",
      "    13    15    17    19\n",
      "result =\n",
      "     6     8    10    13    15    17    19\n"
     ]
    }
   ],
   "source": [
    "% some more ways to create vectors\n",
    "clear all\n",
    "a=[2 4 6 8 10 12];\n",
    "b=[1 3 5 7 9 11 13 15 17 19];  % notice that they are different sizes\n",
    "c=a(3:5)                       % grab some of a\n",
    "d=b(7:10)                      % grab some of b\n",
    "result = [c d]                 % combine into 1 vector"
   ]
  },
  {
   "cell_type": "code",
   "execution_count": 25,
   "metadata": {
    "collapsed": false
   },
   "outputs": [
    {
     "name": "stdout",
     "output_type": "stream",
     "text": [
      "result =\n",
      "  Columns 1 through 7\n",
      "    6.0000    8.0000   10.0000   13.0000   15.0000   17.0000   19.0000\n",
      "  Columns 8 through 10\n",
      "   10.0000   12.5000   15.0000\n"
     ]
    }
   ],
   "source": [
    "% we can keep adding more to it\n",
    "result = [c d linspace(10,15,3)]"
   ]
  },
  {
   "cell_type": "markdown",
   "metadata": {},
   "source": [
    "#### Additional Operations"
   ]
  },
  {
   "cell_type": "code",
   "execution_count": 26,
   "metadata": {
    "collapsed": false
   },
   "outputs": [
    {
     "name": "stdout",
     "output_type": "stream",
     "text": [
      "ans =\n",
      "     1     0     0     0     0     1\n"
     ]
    }
   ],
   "source": [
    "% if we want to multiply each element such as a(1)*b(1), a(2)*b(2), a(3)*b(3), etc.\n",
    "% we can do this by adding a dot/period to the first operand\n",
    "a=[1 0 1 1 0 1];\n",
    "b=[1 1 0 0 1 1];\n",
    "a.*b"
   ]
  },
  {
   "cell_type": "code",
   "execution_count": 27,
   "metadata": {
    "collapsed": false
   },
   "outputs": [
    {
     "name": "stdout",
     "output_type": "stream",
     "text": [
      "ans =\n",
      "     1     0   Inf   Inf     0     1\n"
     ]
    }
   ],
   "source": [
    "% we can also use this with division\n",
    "a./b"
   ]
  },
  {
   "cell_type": "code",
   "execution_count": 28,
   "metadata": {
    "collapsed": false
   },
   "outputs": [],
   "source": [
    "% most operations covered previously work here as well\n",
    "clear all\n",
    "a=[1 2 3 4];\n",
    "b=[-5 -6 -7 -8];"
   ]
  },
  {
   "cell_type": "code",
   "execution_count": 29,
   "metadata": {
    "collapsed": false
   },
   "outputs": [
    {
     "name": "stdout",
     "output_type": "stream",
     "text": [
      "ans =\n",
      "     5     6     7     8\n"
     ]
    }
   ],
   "source": [
    "abs(b)"
   ]
  },
  {
   "cell_type": "code",
   "execution_count": 30,
   "metadata": {
    "collapsed": false
   },
   "outputs": [
    {
     "name": "stdout",
     "output_type": "stream",
     "text": [
      "ans =\n",
      "         0    0.6931    1.0986    1.3863\n"
     ]
    }
   ],
   "source": [
    "log(a)"
   ]
  },
  {
   "cell_type": "code",
   "execution_count": 31,
   "metadata": {
    "collapsed": false
   },
   "outputs": [
    {
     "name": "stdout",
     "output_type": "stream",
     "text": [
      "ans =\n",
      "    0.0067    0.0025    0.0009    0.0003\n"
     ]
    }
   ],
   "source": [
    "exp(b)"
   ]
  },
  {
   "cell_type": "code",
   "execution_count": 32,
   "metadata": {
    "collapsed": false
   },
   "outputs": [
    {
     "name": "stdout",
     "output_type": "stream",
     "text": [
      "ans =\n",
      "    0.8415    0.9093    0.1411   -0.7568\n"
     ]
    }
   ],
   "source": [
    "sin(a)"
   ]
  },
  {
   "cell_type": "code",
   "execution_count": 33,
   "metadata": {
    "collapsed": false
   },
   "outputs": [
    {
     "name": "stdout",
     "output_type": "stream",
     "text": [
      "ans =\n",
      "     1     4     9    16\n"
     ]
    }
   ],
   "source": [
    "% for raising to a power, we have to use the dot/period just as with element-by-element mult/div\n",
    "a.^2"
   ]
  },
  {
   "cell_type": "code",
   "execution_count": 34,
   "metadata": {
    "collapsed": false
   },
   "outputs": [
    {
     "name": "stdout",
     "output_type": "stream",
     "text": [
      "ans =\n",
      "          -5          36        -343        4096\n"
     ]
    }
   ],
   "source": [
    "b.^a"
   ]
  },
  {
   "cell_type": "markdown",
   "metadata": {},
   "source": [
    "#### Random and Automatic Generations"
   ]
  },
  {
   "cell_type": "code",
   "execution_count": 35,
   "metadata": {
    "collapsed": false
   },
   "outputs": [
    {
     "name": "stdout",
     "output_type": "stream",
     "text": [
      "ans =\n",
      "    0.8147\n"
     ]
    }
   ],
   "source": [
    "% the rand function can generate random numbers\n",
    "rand"
   ]
  },
  {
   "cell_type": "code",
   "execution_count": 36,
   "metadata": {
    "collapsed": false
   },
   "outputs": [
    {
     "name": "stdout",
     "output_type": "stream",
     "text": [
      "ans =\n",
      "    0.9058\n"
     ]
    }
   ],
   "source": [
    "rand"
   ]
  },
  {
   "cell_type": "code",
   "execution_count": 37,
   "metadata": {
    "collapsed": false
   },
   "outputs": [
    {
     "name": "stdout",
     "output_type": "stream",
     "text": [
      "ans =\n",
      "    0.1270    0.9134    0.6324    0.0975    0.2785\n"
     ]
    }
   ],
   "source": [
    "% we can extend this to vectors by using rand(m,n) where\n",
    "% m is the # of rows and n is # of columns\n",
    "rand(1,5)"
   ]
  },
  {
   "cell_type": "code",
   "execution_count": 38,
   "metadata": {
    "collapsed": false
   },
   "outputs": [
    {
     "name": "stdout",
     "output_type": "stream",
     "text": [
      "ans =\n",
      "    0.5469    0.1576    0.4854\n",
      "    0.9575    0.9706    0.8003\n",
      "    0.9649    0.9572    0.1419\n"
     ]
    }
   ],
   "source": [
    "% so, we can also get random matrices (vectors are actually matrices as well)\n",
    "rand(3,3)"
   ]
  },
  {
   "cell_type": "code",
   "execution_count": 39,
   "metadata": {
    "collapsed": false
   },
   "outputs": [
    {
     "name": "stdout",
     "output_type": "stream",
     "text": [
      "ans =\n",
      "     1     1     1\n"
     ]
    }
   ],
   "source": [
    "% if you need all ones, use the ones function\n",
    "ones(1,3)"
   ]
  },
  {
   "cell_type": "code",
   "execution_count": 40,
   "metadata": {
    "collapsed": false
   },
   "outputs": [
    {
     "name": "stdout",
     "output_type": "stream",
     "text": [
      "ans =\n",
      "     1     1     1\n",
      "     1     1     1\n",
      "     1     1     1\n"
     ]
    }
   ],
   "source": [
    "ones(3)"
   ]
  },
  {
   "cell_type": "code",
   "execution_count": 41,
   "metadata": {
    "collapsed": false
   },
   "outputs": [
    {
     "name": "stdout",
     "output_type": "stream",
     "text": [
      "ans =\n",
      "     0     0     0\n"
     ]
    }
   ],
   "source": [
    "% also zeros\n",
    "zeros(1,3)"
   ]
  },
  {
   "cell_type": "code",
   "execution_count": 42,
   "metadata": {
    "collapsed": false
   },
   "outputs": [
    {
     "name": "stdout",
     "output_type": "stream",
     "text": [
      "ans =\n",
      "     1     5     3     2     4\n"
     ]
    }
   ],
   "source": [
    "% random permutations is another useful function\n",
    "randperm(5)  % random permutation of 1-5"
   ]
  },
  {
   "cell_type": "code",
   "execution_count": 43,
   "metadata": {
    "collapsed": false
   },
   "outputs": [
    {
     "name": "stdout",
     "output_type": "stream",
     "text": [
      "ans =\n",
      "     4    85    92\n"
     ]
    }
   ],
   "source": [
    "% random permutation of 3 numbers from 1-100\n",
    "randperm(100,3)"
   ]
  },
  {
   "cell_type": "code",
   "execution_count": 44,
   "metadata": {
    "collapsed": false
   },
   "outputs": [
    {
     "name": "stdout",
     "output_type": "stream",
     "text": [
      "ans =\n",
      "     4    85    92\n"
     ]
    }
   ],
   "source": [
    "% we also can sort vectors\n",
    "sort(ans)"
   ]
  },
  {
   "cell_type": "markdown",
   "metadata": {},
   "source": [
    "#### Statistical Analysis"
   ]
  },
  {
   "cell_type": "code",
   "execution_count": 45,
   "metadata": {
    "collapsed": true
   },
   "outputs": [],
   "source": [
    "clear all\n",
    "data=[10 23 45 63 8 0.3 79 435 0.003];"
   ]
  },
  {
   "cell_type": "code",
   "execution_count": 46,
   "metadata": {
    "collapsed": false
   },
   "outputs": [
    {
     "name": "stdout",
     "output_type": "stream",
     "text": [
      "ans =\n",
      "   73.7003\n"
     ]
    }
   ],
   "source": [
    "mean(data)"
   ]
  },
  {
   "cell_type": "code",
   "execution_count": 47,
   "metadata": {
    "collapsed": false
   },
   "outputs": [
    {
     "name": "stdout",
     "output_type": "stream",
     "text": [
      "ans =\n",
      "    23\n"
     ]
    }
   ],
   "source": [
    "median(data)"
   ]
  },
  {
   "cell_type": "code",
   "execution_count": 48,
   "metadata": {
    "collapsed": false
   },
   "outputs": [
    {
     "name": "stdout",
     "output_type": "stream",
     "text": [
      "ans =\n",
      "  138.4140\n"
     ]
    }
   ],
   "source": [
    "std(data) % standard deviation"
   ]
  },
  {
   "cell_type": "code",
   "execution_count": 49,
   "metadata": {
    "collapsed": false
   },
   "outputs": [
    {
     "name": "stdout",
     "output_type": "stream",
     "text": [
      "ans =\n",
      "   1.9158e+04\n"
     ]
    }
   ],
   "source": [
    "var(data) % variance"
   ]
  },
  {
   "cell_type": "code",
   "execution_count": 50,
   "metadata": {
    "collapsed": false
   },
   "outputs": [
    {
     "name": "stdout",
     "output_type": "stream",
     "text": [
      "ans =\n",
      "  138.4140\n"
     ]
    }
   ],
   "source": [
    "sqrt(var(data)) % standard deviation"
   ]
  }
 ],
 "metadata": {
  "kernelspec": {
   "display_name": "Matlab",
   "language": "matlab",
   "name": "matlab"
  },
  "language_info": {
   "codemirror_mode": "octave",
   "file_extension": ".m",
   "help_links": [
    {
     "text": "MetaKernel Magics",
     "url": "https://github.com/calysto/metakernel/blob/master/metakernel/magics/README.md"
    }
   ],
   "mimetype": "text/x-matlab",
   "name": "matlab",
   "version": "0.8.0"
  }
 },
 "nbformat": 4,
 "nbformat_minor": 0
}
