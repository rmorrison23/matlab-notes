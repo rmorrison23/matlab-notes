{
 "cells": [
  {
   "cell_type": "markdown",
   "metadata": {},
   "source": [
    "## Math Functions and Trigonometry"
   ]
  },
  {
   "cell_type": "markdown",
   "metadata": {},
   "source": [
    "### Useful Functions"
   ]
  },
  {
   "cell_type": "markdown",
   "metadata": {},
   "source": [
    "|Operation|Matlab Example|\n",
    "|---|\n",
    "|Natural Logarithm|log(10)|\n",
    "|Logarithm Base 10|log10(10)|\n",
    "|Remainder (modulus)|mod(8,3)|\n",
    "|sin(*arg in rads*)|sin(2)|\n",
    "|sin(*arg in degs*)|sind(90)|\n",
    "|cos(*radians*)|cos(2)|\n",
    "|cos(*degrees*)|cosd(45)|\n",
    "|tan(*rads*)|tan(2)|\n",
    "|exponential $e^n$|exp(*n*)|\n",
    "|square root|sqrt(4)|\n",
    "|factorial $n!$|factorial(*n*)|\n",
    "|nth root $\\sqrt[n]{x}$|nthroot(x,n)|"
   ]
  },
  {
   "cell_type": "code",
   "execution_count": 31,
   "metadata": {
    "collapsed": false
   },
   "outputs": [
    {
     "name": "stdout",
     "output_type": "stream",
     "text": [
      "ans =\n",
      "\n",
      "   120\n"
     ]
    }
   ],
   "source": [
    "% factorial - 5! is not used\n",
    "factorial(5)"
   ]
  },
  {
   "cell_type": "code",
   "execution_count": 32,
   "metadata": {
    "collapsed": false
   },
   "outputs": [
    {
     "name": "stdout",
     "output_type": "stream",
     "text": [
      "ans =\n",
      "\n",
      "     3\n"
     ]
    }
   ],
   "source": [
    "% square root\n",
    "sqrt(9)"
   ]
  },
  {
   "cell_type": "code",
   "execution_count": 33,
   "metadata": {
    "collapsed": false
   },
   "outputs": [
    {
     "name": "stdout",
     "output_type": "stream",
     "text": [
      "ans =\n",
      "\n",
      "    2.2361\n"
     ]
    }
   ],
   "source": [
    "sqrt(5)"
   ]
  },
  {
   "cell_type": "code",
   "execution_count": 34,
   "metadata": {
    "collapsed": false
   },
   "outputs": [
    {
     "name": "stdout",
     "output_type": "stream",
     "text": [
      "ans =\n",
      "\n",
      "     3\n"
     ]
    }
   ],
   "source": [
    "9^(1/2)"
   ]
  },
  {
   "cell_type": "code",
   "execution_count": 36,
   "metadata": {
    "collapsed": false
   },
   "outputs": [
    {
     "name": "stdout",
     "output_type": "stream",
     "text": [
      "ans =\n",
      "\n",
      "     3\n"
     ]
    }
   ],
   "source": [
    "% Nth Root: nthroot(X, n)\n",
    "% returns the nth root of X\n",
    "nthroot(27, 3)"
   ]
  },
  {
   "cell_type": "code",
   "execution_count": 39,
   "metadata": {
    "collapsed": false
   },
   "outputs": [
    {
     "name": "stdout",
     "output_type": "stream",
     "text": [
      "ans =\n",
      " \n",
      "89333^(1/2)\n"
     ]
    }
   ],
   "source": [
    "sym(sqrt(89333))"
   ]
  },
  {
   "cell_type": "markdown",
   "metadata": {},
   "source": [
    "#### Trigonometry"
   ]
  },
  {
   "cell_type": "markdown",
   "metadata": {},
   "source": [
    "*NOTE: MATLAB interprets arguments to trig functions as radians - must convert to degrees if thats what you want!*"
   ]
  },
  {
   "cell_type": "code",
   "execution_count": 3,
   "metadata": {
    "collapsed": false
   },
   "outputs": [
    {
     "name": "stdout",
     "output_type": "stream",
     "text": [
      "ans =\n",
      "\n",
      "    0.8509\n"
     ]
    }
   ],
   "source": [
    "% some trig examples \n",
    "deg = sym('deg');\n",
    "rad = sym('rad');\n",
    "deg = rad*180/pi; % convert rad2deg\n",
    "rad = deg*pi/180; % convert deg2rad\n",
    "\n",
    "sin(45)"
   ]
  },
  {
   "cell_type": "code",
   "execution_count": 7,
   "metadata": {
    "collapsed": false
   },
   "outputs": [
    {
     "name": "stdout",
     "output_type": "stream",
     "text": [
      "ans =\n",
      "\n",
      "    0.8061\n"
     ]
    }
   ],
   "source": [
    "sin(45*180/pi)"
   ]
  },
  {
   "cell_type": "code",
   "execution_count": 9,
   "metadata": {
    "collapsed": false
   },
   "outputs": [
    {
     "name": "stdout",
     "output_type": "stream",
     "text": [
      "ans =\n",
      "\n",
      "    1.0607\n"
     ]
    }
   ],
   "source": [
    "log10(11.5)"
   ]
  },
  {
   "cell_type": "markdown",
   "metadata": {},
   "source": [
    "#### Log and Exp"
   ]
  },
  {
   "cell_type": "code",
   "execution_count": 15,
   "metadata": {
    "collapsed": false
   },
   "outputs": [
    {
     "name": "stdout",
     "output_type": "stream",
     "text": [
      "ans =\n",
      "\n",
      "    1.0000\n"
     ]
    }
   ],
   "source": [
    "% MATLAB uses log base e (natural log) by default\n",
    "% e = 2.7183, so...\n",
    "log(2.7183)"
   ]
  },
  {
   "cell_type": "code",
   "execution_count": 16,
   "metadata": {
    "collapsed": false
   },
   "outputs": [
    {
     "name": "stdout",
     "output_type": "stream",
     "text": [
      "ans =\n",
      "\n",
      "     2\n"
     ]
    }
   ],
   "source": [
    "% to change to base:\n",
    "log10(100)"
   ]
  },
  {
   "cell_type": "code",
   "execution_count": 17,
   "metadata": {
    "collapsed": false
   },
   "outputs": [
    {
     "name": "stdout",
     "output_type": "stream",
     "text": [
      "ans =\n",
      "\n",
      "    2.7183\n"
     ]
    }
   ],
   "source": [
    "% for exponential, we use the exp() function\n",
    "exp(1)"
   ]
  },
  {
   "cell_type": "markdown",
   "metadata": {},
   "source": [
    "#### Complex Numbers"
   ]
  },
  {
   "cell_type": "code",
   "execution_count": 18,
   "metadata": {
    "collapsed": false
   },
   "outputs": [
    {
     "name": "stdout",
     "output_type": "stream",
     "text": [
      "ans =\n",
      "\n",
      "   0.0000 + 1.0000i\n"
     ]
    }
   ],
   "source": [
    "% MATLAB recognizes both i and j as complex numbers\n",
    "i"
   ]
  },
  {
   "cell_type": "code",
   "execution_count": 19,
   "metadata": {
    "collapsed": false
   },
   "outputs": [
    {
     "name": "stdout",
     "output_type": "stream",
     "text": [
      "ans =\n",
      "\n",
      "   0.0000 + 1.0000i\n"
     ]
    }
   ],
   "source": [
    "j"
   ]
  },
  {
   "cell_type": "code",
   "execution_count": 20,
   "metadata": {
    "collapsed": false
   },
   "outputs": [
    {
     "name": "stdout",
     "output_type": "stream",
     "text": [
      "ans =\n",
      "\n",
      "    -1\n"
     ]
    }
   ],
   "source": [
    "i * i"
   ]
  },
  {
   "cell_type": "code",
   "execution_count": 22,
   "metadata": {
    "collapsed": false
   },
   "outputs": [
    {
     "name": "stdout",
     "output_type": "stream",
     "text": [
      "ans =\n",
      "\n",
      "   0.0000 + 1.0000i\n"
     ]
    }
   ],
   "source": [
    "sqrt(-1)"
   ]
  },
  {
   "cell_type": "code",
   "execution_count": 23,
   "metadata": {
    "collapsed": false
   },
   "outputs": [
    {
     "name": "stdout",
     "output_type": "stream",
     "text": [
      "ans =\n",
      "\n",
      "   6.0000 - 8.0000i\n"
     ]
    }
   ],
   "source": [
    "(1-4i)+(5-4i)"
   ]
  },
  {
   "cell_type": "code",
   "execution_count": 25,
   "metadata": {
    "collapsed": false
   },
   "outputs": [
    {
     "name": "stdout",
     "output_type": "stream",
     "text": [
      "ans =\n",
      "\n",
      "   0.0000 + 2.0000i\n"
     ]
    }
   ],
   "source": [
    "2*j"
   ]
  },
  {
   "cell_type": "code",
   "execution_count": 26,
   "metadata": {
    "collapsed": false
   },
   "outputs": [
    {
     "name": "stdout",
     "output_type": "stream",
     "text": [
      "ans =\n",
      "\n",
      "  19.0000 + 7.0000i\n"
     ]
    }
   ],
   "source": [
    "% variables can be assigned as complex\n",
    "a = 3 - i;\n",
    "b = 5 + 4i;\n",
    "a*b"
   ]
  },
  {
   "cell_type": "code",
   "execution_count": 27,
   "metadata": {
    "collapsed": false
   },
   "outputs": [
    {
     "name": "stdout",
     "output_type": "stream",
     "text": [
      "ans =\n",
      "\n",
      "  -1.1333e+03 + 1.6569e+02i\n"
     ]
    }
   ],
   "source": [
    "a^b"
   ]
  },
  {
   "cell_type": "code",
   "execution_count": 39,
   "metadata": {
    "collapsed": false
   },
   "outputs": [
    {
     "name": "stdout",
     "output_type": "stream",
     "text": [
      "ans =\n",
      "\n",
      "     5\n"
     ]
    }
   ],
   "source": [
    "% the magnitude of complex can also be found with abs()\n",
    "a = 4 - 3i;\n",
    "abs(a)"
   ]
  },
  {
   "cell_type": "code",
   "execution_count": 34,
   "metadata": {
    "collapsed": false
   },
   "outputs": [
    {
     "name": "stdout",
     "output_type": "stream",
     "text": [
      "ans =\n",
      "\n",
      "   -0.7854\n"
     ]
    }
   ],
   "source": [
    "% the angle is also found (in radians)\n",
    "angle(a)"
   ]
  },
  {
   "cell_type": "code",
   "execution_count": 35,
   "metadata": {
    "collapsed": false
   },
   "outputs": [
    {
     "name": "stdout",
     "output_type": "stream",
     "text": [
      "ans =\n",
      "\n",
      "    57\n",
      "\n",
      "\n",
      "ans =\n",
      "\n",
      "  -872\n"
     ]
    }
   ],
   "source": [
    "% real()/imag() are used to get the respective part of a complex #\n",
    "a = 57 - 872i;\n",
    "real(a)\n",
    "imag(a)"
   ]
  },
  {
   "cell_type": "code",
   "execution_count": 36,
   "metadata": {
    "collapsed": false
   },
   "outputs": [
    {
     "name": "stdout",
     "output_type": "stream",
     "text": [
      "ans =\n",
      "\n",
      "   5.7000e+01 + 8.7200e+02i\n"
     ]
    }
   ],
   "source": [
    "% complex conjugates are found 2 ways:\n",
    "conj(a)"
   ]
  },
  {
   "cell_type": "code",
   "execution_count": 37,
   "metadata": {
    "collapsed": false
   },
   "outputs": [
    {
     "name": "stdout",
     "output_type": "stream",
     "text": [
      "ans =\n",
      "\n",
      "   5.7000e+01 + 8.7200e+02i\n"
     ]
    }
   ],
   "source": [
    "a'"
   ]
  },
  {
   "cell_type": "code",
   "execution_count": 38,
   "metadata": {
    "collapsed": false
   },
   "outputs": [
    {
     "name": "stdout",
     "output_type": "stream",
     "text": [
      "ans =\n",
      "\n",
      "   3.0000 + 9.0000i\n"
     ]
    }
   ],
   "source": [
    "% lastly, a complex number can be constructed using a function\n",
    "complex(3,9)"
   ]
  }
 ],
 "metadata": {
  "kernelspec": {
   "display_name": "Matlab",
   "language": "matlab",
   "name": "matlab"
  },
  "language_info": {
   "codemirror_mode": "octave",
   "file_extension": ".m",
   "help_links": [
    {
     "text": "MetaKernel Magics",
     "url": "https://github.com/calysto/metakernel/blob/master/metakernel/magics/README.md"
    }
   ],
   "mimetype": "text/x-matlab",
   "name": "matlab",
   "version": "0.8.0"
  }
 },
 "nbformat": 4,
 "nbformat_minor": 0
}
